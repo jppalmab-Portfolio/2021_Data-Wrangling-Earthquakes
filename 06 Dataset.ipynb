{
 "cells": [
  {
   "cell_type": "code",
   "execution_count": 1,
   "id": "1cc42553",
   "metadata": {},
   "outputs": [],
   "source": [
    "import pandas as pd\n",
    "from bs4 import BeautifulSoup as bs\n",
    "import requests\n",
    "from urllib import request\n",
    "import urllib.request\n",
    "import numpy as np\n",
    "import re"
   ]
  },
  {
   "cell_type": "code",
   "execution_count": 2,
   "id": "8a675c25",
   "metadata": {},
   "outputs": [],
   "source": [
    "pages = [\"https://en.wikipedia.org/wiki/List_of_historical_earthquakes\", \n",
    "             \"https://en.wikipedia.org/wiki/Lists_of_20th-century_earthquakes\",\n",
    "            \"https://en.wikipedia.org/wiki/List_of_earthquakes_2001–2010\",\n",
    "            \"https://en.wikipedia.org/wiki/List_of_earthquakes_2011–2020\",\n",
    "            \"https://en.wikipedia.org/wiki/List_of_earthquakes_2021–2030\"]"
   ]
  },
  {
   "cell_type": "code",
   "execution_count": 3,
   "id": "3971917c",
   "metadata": {},
   "outputs": [],
   "source": [
    "index_data = 0\n",
    "column_names = ['Date', 'Time', 'Place', 'Latitude', 'Longitude', 'Fatalities', 'Magnitude', 'Comments', 'Sources']"
   ]
  },
  {
   "cell_type": "code",
   "execution_count": 4,
   "id": "6bd42fc5",
   "metadata": {},
   "outputs": [
    {
     "name": "stdout",
     "output_type": "stream",
     "text": [
      "an exception was raised...going to next page\n",
      "an exception was raised...going to next page\n",
      "Process finished succesfully!\n"
     ]
    }
   ],
   "source": [
    "for page in range(0, len(pages)):\n",
    "    r = requests.get(pages[page]).text\n",
    "    webpage = bs(r, \"lxml\")\n",
    "    \n",
    "    try:\n",
    "        for i in range(0,10):\n",
    "            \n",
    "            table = webpage.find_all('table', {'class':'wikitable sortable'})[i]\n",
    "            columns = table.find_all(\"th\")\n",
    "            table_rows = table.find(\"tbody\").find_all(\"tr\")\n",
    "            l = []\n",
    "            index_data = index_data + 1\n",
    "\n",
    "            for tr in table_rows:\n",
    "                td = tr.find_all('td')\n",
    "                row = [str(tr.get_text()).strip() for tr in td]\n",
    "                l.append(row)\n",
    "\n",
    "            globals()[f\"df_{index_data}\"] = pd.DataFrame(l)\n",
    "            globals()[f\"df_{index_data}\"] = globals()[f\"df_{index_data}\"].drop(labels=0, axis=0)\n",
    "\n",
    "            if len(globals()[f\"df_{index_data}\"].columns) > 8:\n",
    "                try:\n",
    "                    globals()[f\"df_{index_data}\"] = globals()[f\"df_{index_data}\"].drop(labels=9, axis=1)\n",
    "                except:\n",
    "                    next\n",
    "            else:\n",
    "                next\n",
    "            globals()[f\"df_{index_data}\"].columns = column_names\n",
    "            globals()[f\"df_{index_data}\"] = globals()[f\"df_{index_data}\"].reset_index(drop=True)\n",
    "\n",
    "        \n",
    "    except:\n",
    "        print(\"an exception was raised...going to next page\")\n",
    "        next\n",
    "        \n",
    "print(\"Process finished succesfully!\")"
   ]
  },
  {
   "cell_type": "code",
   "execution_count": 5,
   "id": "a12ebf3a",
   "metadata": {},
   "outputs": [],
   "source": [
    "df_all = []\n",
    "\n",
    "for i in range(0,34):\n",
    "    x = globals()[f\"df_{i+1}\"]\n",
    "    df_all.append(x)\n",
    "    \n",
    "df_all = pd.concat(df_all)"
   ]
  },
  {
   "cell_type": "code",
   "execution_count": 6,
   "id": "e3397756",
   "metadata": {},
   "outputs": [],
   "source": [
    "df_all = df_all.reset_index(drop=True)"
   ]
  },
  {
   "cell_type": "code",
   "execution_count": 7,
   "id": "8cce338f",
   "metadata": {},
   "outputs": [],
   "source": [
    "df = df_all"
   ]
  },
  {
   "cell_type": "code",
   "execution_count": 8,
   "id": "6c9639fe",
   "metadata": {},
   "outputs": [],
   "source": [
    "#df.to_csv(\"data/06 df_earthquakes.csv\")"
   ]
  }
 ],
 "metadata": {
  "kernelspec": {
   "display_name": "Python 3",
   "language": "python",
   "name": "python3"
  },
  "language_info": {
   "codemirror_mode": {
    "name": "ipython",
    "version": 3
   },
   "file_extension": ".py",
   "mimetype": "text/x-python",
   "name": "python",
   "nbconvert_exporter": "python",
   "pygments_lexer": "ipython3",
   "version": "3.8.8"
  }
 },
 "nbformat": 4,
 "nbformat_minor": 5
}
