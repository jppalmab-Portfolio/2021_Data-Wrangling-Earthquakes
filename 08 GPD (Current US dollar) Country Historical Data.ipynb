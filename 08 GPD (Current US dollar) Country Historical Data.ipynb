{
 "cells": [
  {
   "cell_type": "code",
   "execution_count": 1,
   "id": "607493bd",
   "metadata": {},
   "outputs": [],
   "source": [
    "#pip install -U wbdata\n",
    "import wbdata\n",
    "import pandas as pd\n",
    "import numpy as np"
   ]
  },
  {
   "cell_type": "code",
   "execution_count": null,
   "id": "a3ae49b6",
   "metadata": {},
   "outputs": [],
   "source": [
    "#wbdata.get_source()"
   ]
  },
  {
   "cell_type": "code",
   "execution_count": null,
   "id": "9d9c590d",
   "metadata": {},
   "outputs": [],
   "source": [
    "#NY.GDP.MKTP.CD\n",
    "#data = wbdata.DataFrame(\"NY.GDP.MKTP.CD\")\n",
    "\n",
    "#NY.GDP.PCAP.CD"
   ]
  },
  {
   "cell_type": "code",
   "execution_count": 2,
   "id": "f6b1508d",
   "metadata": {},
   "outputs": [
    {
     "data": {
      "text/plain": [
       "id                          name\n",
       "--------------------------  ----------------------------------------------------------------------------------------\n",
       "6.0.GDPpc_constant          GDP per capita, PPP (constant 2011 international $)\n",
       "CC.GHG.MEMG.GC              Macro drivers of GHG emissions growth in the period 2012-2020 - GDP per capita\n",
       "FB.DPT.INSU.PC.ZS           Deposit insurance coverage (% of GDP per capita)\n",
       "NV.AGR.PCAP.KD.ZG           Real agricultural GDP per capita growth rate (%)\n",
       "NY.GDP.PCAP.CD              GDP per capita (current US$)\n",
       "NY.GDP.PCAP.CN              GDP per capita (current LCU)\n",
       "NY.GDP.PCAP.KD              GDP per capita (constant 2015 US$)\n",
       "NY.GDP.PCAP.KD.ZG           GDP per capita growth (annual %)\n",
       "NY.GDP.PCAP.KN              GDP per capita (constant LCU)\n",
       "NY.GDP.PCAP.PP.CD           GDP per capita, PPP (current international $)\n",
       "NY.GDP.PCAP.PP.KD           GDP per capita, PPP (constant 2017 international $)\n",
       "NY.GDP.PCAP.PP.KD.87        GDP per capita, PPP (constant 1987 international $)\n",
       "NY.GDP.PCAP.PP.KD.ZG        GDP per capita, PPP annual growth (%)\n",
       "SE.PRM.SATT.2               (De Facto) Average principal salary as percent of GDP per capita\n",
       "SE.PRM.TATT.1               (De Jure) Average starting public-school teacher salary as percent of GDP per capita\n",
       "SE.XPD.PRIM.PC.ZS           Government expenditure per student, primary (% of GDP per capita)\n",
       "SE.XPD.SECO.PC.ZS           Government expenditure per student, secondary (% of GDP per capita)\n",
       "SE.XPD.TERT.PC.ZS           Government expenditure per student, tertiary (% of GDP per capita)\n",
       "UIS.XUNIT.GDPCAP.02.FSGOV   Initial government funding per pre-primary student as a percentage of GDP per capita\n",
       "UIS.XUNIT.GDPCAP.1.FSGOV    Initial government funding per primary student as a percentage of GDP per capita\n",
       "UIS.XUNIT.GDPCAP.1.FSHH     Initial household funding per primary student as a percentage of GDP per capita\n",
       "UIS.XUNIT.GDPCAP.2.FSGOV    Initial government funding per lower secondary student as a percentage of GDP per capita\n",
       "UIS.XUNIT.GDPCAP.23.FSGOV   Initial government funding per secondary student as a percentage of GDP per capita\n",
       "UIS.XUNIT.GDPCAP.23.FSHH    Initial household funding per secondary student as a percentage of GDP per capita\n",
       "UIS.XUNIT.GDPCAP.3.FSGOV    Initial government funding per upper secondary student as a percentage of GDP per capita\n",
       "UIS.XUNIT.GDPCAP.5T8.FSGOV  Initial government funding per tertiary student as a percentage of GDP per capita\n",
       "UIS.XUNIT.GDPCAP.5T8.FSHH   Initial household funding per tertiary student as a percentage of GDP per capita"
      ]
     },
     "execution_count": 2,
     "metadata": {},
     "output_type": "execute_result"
    }
   ],
   "source": [
    "wbdata.search_indicators(\"gdp per capita\")"
   ]
  },
  {
   "cell_type": "code",
   "execution_count": 4,
   "id": "54897863",
   "metadata": {},
   "outputs": [],
   "source": [
    "indicators = {\"NY.GDP.PCAP.CD\": \"GDP_PCAP_CD\"}         \n",
    "\n",
    "df = wbdata.get_dataframe(indicators, convert_date=True)   \n",
    "\n",
    "df\n",
    "#df.to_csv(\"data/08 df_gpd_current.csv\")"
   ]
  }
 ],
 "metadata": {
  "kernelspec": {
   "display_name": "Python 3",
   "language": "python",
   "name": "python3"
  },
  "language_info": {
   "codemirror_mode": {
    "name": "ipython",
    "version": 3
   },
   "file_extension": ".py",
   "mimetype": "text/x-python",
   "name": "python",
   "nbconvert_exporter": "python",
   "pygments_lexer": "ipython3",
   "version": "3.8.8"
  }
 },
 "nbformat": 4,
 "nbformat_minor": 5
}
